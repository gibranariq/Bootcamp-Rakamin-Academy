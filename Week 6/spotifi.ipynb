{
 "cells": [
  {
   "cell_type": "markdown",
   "metadata": {},
   "source": [
    "# Homework Week 6\n",
    "\n",
    "### Kelompok 5\n",
    "- Awwaludin Iskandar \n",
    "- Gibran Ariq Natakusuma \n",
    "- Naufal Rizqi Hutamamulya\n",
    "- Samuel Torang Sitorus"
   ]
  },
  {
   "cell_type": "markdown",
   "metadata": {},
   "source": [
    "Ini adalah sebuah sistem playlist lagu sederhana bernama Spotifi menggunakan beberapa funsgi python. Dengan beberapa fitur seperti:\n",
    "\n",
    "1. Tambah lagu\n",
    "2. Show playlist\n",
    "3. Hapus lagu\n",
    "4. Putar lagu\n",
    "5. Putar playlist acak\n",
    "\n",
    "\n",
    "Untuk cara penggunaan silahkan import modul terlebih dahulu di bawah ini. Jika tidak muncul silahkan restart notebook."
   ]
  },
  {
   "cell_type": "code",
   "execution_count": 1,
   "metadata": {},
   "outputs": [
    {
     "name": "stdout",
     "output_type": "stream",
     "text": [
      "\n",
      "🎵 Playlist Module 🎵\n",
      "\n",
      "Cara Penggunaan:\n",
      "\n",
      "1. Tambah lagu ke playlist:\n",
      "   > pm.add_song(\"Judul Lagu\")\n",
      "      \n",
      "2. Tampilkan seluruh playlist:\n",
      "   > pm.show_playlist()\n",
      "\n",
      "3. Hapus lagu dari playlist:\n",
      "   > pm.remove_song(\"Judul Lagu\")\n",
      "\n",
      "4. Putar lagu berdasarkan urutan:\n",
      "   > pm.play_song(nomor)\n",
      "\n",
      "5. Putar semua lagu secara acak:\n",
      "   > pm.shuffle_playlist()\n",
      "\n",
      "\n"
     ]
    }
   ],
   "source": [
    "# import module\n",
    "import playlist_module as pm"
   ]
  },
  {
   "cell_type": "markdown",
   "metadata": {},
   "source": [
    "## Tambah lagu "
   ]
  },
  {
   "cell_type": "code",
   "execution_count": 7,
   "metadata": {},
   "outputs": [
    {
     "name": "stdout",
     "output_type": "stream",
     "text": [
      "lagu 'blue' berhasil ditambahkan\n"
     ]
    }
   ],
   "source": [
    "# add song\n",
    "pm.add_song(\"blue\")"
   ]
  },
  {
   "cell_type": "markdown",
   "metadata": {},
   "source": [
    "## Tampilkan Playlist"
   ]
  },
  {
   "cell_type": "code",
   "execution_count": 8,
   "metadata": {},
   "outputs": [
    {
     "name": "stdout",
     "output_type": "stream",
     "text": [
      "Daftar lagu dalam playlist:\n",
      "\n",
      "1. Valentine\n",
      "2. Mangu\n",
      "3. Path\n",
      "4. Scott Street\n",
      "5. Backburner\n",
      "6. blue\n"
     ]
    }
   ],
   "source": [
    "# show playlist\n",
    "pm.show_playlist()"
   ]
  },
  {
   "cell_type": "markdown",
   "metadata": {},
   "source": [
    "## Hapus Lagu"
   ]
  },
  {
   "cell_type": "code",
   "execution_count": 9,
   "metadata": {},
   "outputs": [
    {
     "name": "stdout",
     "output_type": "stream",
     "text": [
      "Lagu 'Mangu' berhasil dihapus\n"
     ]
    }
   ],
   "source": [
    "# remove song\n",
    "pm.remove_song(\"Mangu\")"
   ]
  },
  {
   "cell_type": "markdown",
   "metadata": {},
   "source": [
    "## Putar Lagu"
   ]
  },
  {
   "cell_type": "code",
   "execution_count": 11,
   "metadata": {},
   "outputs": [
    {
     "name": "stdout",
     "output_type": "stream",
     "text": [
      "Daftar lagu dalam playlist:\n",
      "\n",
      "1. Valentine\n",
      "2. Path\n",
      "3. Scott Street\n",
      "4. Backburner\n",
      "5. blue\n"
     ]
    }
   ],
   "source": [
    "# liat playlist sekarang\n",
    "pm.show_playlist()"
   ]
  },
  {
   "cell_type": "code",
   "execution_count": 10,
   "metadata": {},
   "outputs": [
    {
     "name": "stdout",
     "output_type": "stream",
     "text": [
      "Memutar lagu: Path\n"
     ]
    }
   ],
   "source": [
    "# play song\n",
    "pm.play_song(2)"
   ]
  },
  {
   "cell_type": "markdown",
   "metadata": {},
   "source": [
    "## Shuffle Playlist"
   ]
  },
  {
   "cell_type": "code",
   "execution_count": 12,
   "metadata": {},
   "outputs": [
    {
     "name": "stdout",
     "output_type": "stream",
     "text": [
      "Memutar lagu secara acak:\n",
      "▶️ Path\n",
      "▶️ Valentine\n",
      "▶️ Backburner\n",
      "▶️ Scott Street\n",
      "▶️ blue\n"
     ]
    }
   ],
   "source": [
    "# shuffle playlist\n",
    "pm.shuffle_playlist()"
   ]
  }
 ],
 "metadata": {
  "kernelspec": {
   "display_name": "Python 3",
   "language": "python",
   "name": "python3"
  },
  "language_info": {
   "codemirror_mode": {
    "name": "ipython",
    "version": 3
   },
   "file_extension": ".py",
   "mimetype": "text/x-python",
   "name": "python",
   "nbconvert_exporter": "python",
   "pygments_lexer": "ipython3",
   "version": "3.12.0"
  }
 },
 "nbformat": 4,
 "nbformat_minor": 2
}
